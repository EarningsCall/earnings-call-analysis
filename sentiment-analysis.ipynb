{
 "cells": [
  {
   "cell_type": "code",
   "execution_count": 2,
   "id": "acdaa813-5490-4fcc-8f0d-c11486aacbd2",
   "metadata": {},
   "outputs": [
    {
     "name": "stdout",
     "output_type": "stream",
     "text": [
      "Collecting matplotlib\n",
      "  Downloading matplotlib-3.9.0-cp312-cp312-macosx_11_0_arm64.whl.metadata (11 kB)\n",
      "Collecting contourpy>=1.0.1 (from matplotlib)\n",
      "  Downloading contourpy-1.2.1-cp312-cp312-macosx_11_0_arm64.whl.metadata (5.8 kB)\n",
      "Collecting cycler>=0.10 (from matplotlib)\n",
      "  Using cached cycler-0.12.1-py3-none-any.whl.metadata (3.8 kB)\n",
      "Collecting fonttools>=4.22.0 (from matplotlib)\n",
      "  Downloading fonttools-4.53.0-cp312-cp312-macosx_11_0_arm64.whl.metadata (162 kB)\n",
      "\u001b[2K     \u001b[38;2;114;156;31m━━━━━━━━━━━━━━━━━━━━━━━━━━━━━━━━━━━━━━━\u001b[0m \u001b[32m162.2/162.2 kB\u001b[0m \u001b[31m2.1 MB/s\u001b[0m eta \u001b[36m0:00:00\u001b[0m[31m2.3 MB/s\u001b[0m eta \u001b[36m0:00:01\u001b[0m\n",
      "\u001b[?25hCollecting kiwisolver>=1.3.1 (from matplotlib)\n",
      "  Downloading kiwisolver-1.4.5-cp312-cp312-macosx_11_0_arm64.whl.metadata (6.4 kB)\n",
      "Requirement already satisfied: numpy>=1.23 in /Users/erwbrock/.pyenv/versions/3.12.3/lib/python3.12/site-packages (from matplotlib) (1.26.4)\n",
      "Requirement already satisfied: packaging>=20.0 in /Users/erwbrock/.pyenv/versions/3.12.3/lib/python3.12/site-packages (from matplotlib) (24.0)\n",
      "Collecting pillow>=8 (from matplotlib)\n",
      "  Downloading pillow-10.3.0-cp312-cp312-macosx_11_0_arm64.whl.metadata (9.2 kB)\n",
      "Collecting pyparsing>=2.3.1 (from matplotlib)\n",
      "  Using cached pyparsing-3.1.2-py3-none-any.whl.metadata (5.1 kB)\n",
      "Requirement already satisfied: python-dateutil>=2.7 in /Users/erwbrock/.pyenv/versions/3.12.3/lib/python3.12/site-packages (from matplotlib) (2.9.0.post0)\n",
      "Requirement already satisfied: six>=1.5 in /Users/erwbrock/.pyenv/versions/3.12.3/lib/python3.12/site-packages (from python-dateutil>=2.7->matplotlib) (1.16.0)\n",
      "Downloading matplotlib-3.9.0-cp312-cp312-macosx_11_0_arm64.whl (7.8 MB)\n",
      "\u001b[2K   \u001b[38;2;114;156;31m━━━━━━━━━━━━━━━━━━━━━━━━━━━━━━━━━━━━━━━━\u001b[0m \u001b[32m7.8/7.8 MB\u001b[0m \u001b[31m2.8 MB/s\u001b[0m eta \u001b[36m0:00:00\u001b[0mm eta \u001b[36m0:00:01\u001b[0m[36m0:00:01\u001b[0m\n",
      "\u001b[?25hDownloading contourpy-1.2.1-cp312-cp312-macosx_11_0_arm64.whl (245 kB)\n",
      "\u001b[2K   \u001b[38;2;114;156;31m━━━━━━━━━━━━━━━━━━━━━━━━━━━━━━━━━━━━━━━━\u001b[0m \u001b[32m245.3/245.3 kB\u001b[0m \u001b[31m2.1 MB/s\u001b[0m eta \u001b[36m0:00:00\u001b[0m MB/s\u001b[0m eta \u001b[36m0:00:01\u001b[0m\n",
      "\u001b[?25hUsing cached cycler-0.12.1-py3-none-any.whl (8.3 kB)\n",
      "Downloading fonttools-4.53.0-cp312-cp312-macosx_11_0_arm64.whl (2.2 MB)\n",
      "\u001b[2K   \u001b[38;2;114;156;31m━━━━━━━━━━━━━━━━━━━━━━━━━━━━━━━━━━━━━━━━\u001b[0m \u001b[32m2.2/2.2 MB\u001b[0m \u001b[31m1.5 MB/s\u001b[0m eta \u001b[36m0:00:00\u001b[0mm eta \u001b[36m0:00:01\u001b[0m0:01\u001b[0m:01\u001b[0m\n",
      "\u001b[?25hDownloading kiwisolver-1.4.5-cp312-cp312-macosx_11_0_arm64.whl (64 kB)\n",
      "\u001b[2K   \u001b[38;2;114;156;31m━━━━━━━━━━━━━━━━━━━━━━━━━━━━━━━━━━━━━━━━\u001b[0m \u001b[32m65.0/65.0 kB\u001b[0m \u001b[31m608.7 kB/s\u001b[0m eta \u001b[36m0:00:00\u001b[0m kB/s\u001b[0m eta \u001b[36m0:00:01\u001b[0m:01\u001b[0m\n",
      "\u001b[?25hDownloading pillow-10.3.0-cp312-cp312-macosx_11_0_arm64.whl (3.4 MB)\n",
      "\u001b[2K   \u001b[38;2;114;156;31m━━━━━━━━━━━━━━━━━━━━━━━━━━━━━━━━━━━━━━━━\u001b[0m \u001b[32m3.4/3.4 MB\u001b[0m \u001b[31m1.7 MB/s\u001b[0m eta \u001b[36m0:00:00\u001b[0m[36m0:00:01\u001b[0mm eta \u001b[36m0:00:01\u001b[0m0m\n",
      "\u001b[?25hUsing cached pyparsing-3.1.2-py3-none-any.whl (103 kB)\n",
      "Installing collected packages: pyparsing, pillow, kiwisolver, fonttools, cycler, contourpy, matplotlib\n",
      "Successfully installed contourpy-1.2.1 cycler-0.12.1 fonttools-4.53.0 kiwisolver-1.4.5 matplotlib-3.9.0 pillow-10.3.0 pyparsing-3.1.2\n",
      "Note: you may need to restart the kernel to use updated packages.\n"
     ]
    }
   ],
   "source": [
    "pip install matplotlib"
   ]
  },
  {
   "cell_type": "markdown",
   "id": "f8f7dbd9-092c-4d3c-93db-563604977887",
   "metadata": {},
   "source": [
    "Hello\n",
    "This is a Jupyter Notebook"
   ]
  },
  {
   "cell_type": "code",
   "execution_count": 103,
   "id": "bc366bc6-8d54-4b30-8d5a-4a8511f6e8e3",
   "metadata": {},
   "outputs": [],
   "source": [
    "def get_earningscall_secret_api_key():\n",
    "    with open(\".earnings-call-api-key\", \"r\") as fd:\n",
    "        return fd.read().strip()"
   ]
  },
  {
   "cell_type": "code",
   "execution_count": 104,
   "id": "c5098b08-42d1-43e6-8ad6-cb47b5d02508",
   "metadata": {},
   "outputs": [],
   "source": [
    "import earningscall\n",
    "\n",
    "earningscall.api_key = get_earningscall_secret_api_key()"
   ]
  },
  {
   "cell_type": "code",
   "execution_count": 105,
   "id": "69714e57-e86d-4e1f-bdbd-3deb8050e90a",
   "metadata": {},
   "outputs": [],
   "source": [
    "from earningscall import get_company, get_sp500_companies\n",
    "from earningscall.company import Company\n",
    "\n",
    "from textblob import TextBlob\n",
    "\n",
    "\n",
    "# Initialize the Earnings Call API\n",
    "company = get_company(\"AAPL\")\n",
    "\n",
    "# Fetch the transcript of a specific earnings call\n",
    "transcript = company.get_transcript(quarter=1, year=2024)"
   ]
  },
  {
   "cell_type": "code",
   "execution_count": 106,
   "id": "35b487f4-fb67-4659-9319-7242a9e9198c",
   "metadata": {},
   "outputs": [
    {
     "name": "stdout",
     "output_type": "stream",
     "text": [
      "Sentiment(polarity=0.18496337217726486, subjectivity=0.46769073323131016)\n",
      "Sentiment Polarity: 0.18496337217726486\n",
      "Sentiment Subjectivity: 0.46769073323131016\n"
     ]
    }
   ],
   "source": [
    "from textblob import TextBlob\n",
    "\n",
    "# Perform sentiment analysis on the transcript\n",
    "blob = TextBlob(transcript.text)\n",
    "sentiment = blob.sentiment\n",
    "\n",
    "# Print the results\n",
    "print(sentiment)\n",
    "print(f\"Sentiment Polarity: {sentiment.polarity}\")\n",
    "print(f\"Sentiment Subjectivity: {sentiment.subjectivity}\")"
   ]
  },
  {
   "cell_type": "code",
   "execution_count": 107,
   "id": "c22b2702-93f7-46aa-8926-1f4d3abfd4d9",
   "metadata": {},
   "outputs": [],
   "source": [
    "def get_datapoints(company: Company):\n",
    "    for event in company.events():\n",
    "        transcript = company.get_transcript(event=event)  # Fetch the earnings call transcript for this event\n",
    "        blob = TextBlob(transcript.text)\n",
    "        sentiment = blob.sentiment\n",
    "        x = sentiment.polarity\n",
    "        y = sentiment.subjectivity\n",
    "        yield [x, y]"
   ]
  },
  {
   "cell_type": "code",
   "execution_count": 108,
   "id": "8e50b380-ee3c-4ebc-84ab-4503c4b28391",
   "metadata": {},
   "outputs": [],
   "source": [
    "my_array = np.array(list(get_datapoints(company)))"
   ]
  },
  {
   "cell_type": "code",
   "execution_count": 117,
   "id": "90eee77a-9ced-4d90-af17-de12d3957143",
   "metadata": {
    "editable": true,
    "slideshow": {
     "slide_type": ""
    },
    "tags": []
   },
   "outputs": [],
   "source": [
    "def get_all_datapoints():\n",
    "    for company in get_sp500_companies():\n",
    "        print(company)\n",
    "        for datapoint in get_datapoints(company):\n",
    "            yield datapoint"
   ]
  },
  {
   "cell_type": "code",
   "execution_count": 115,
   "id": "a9e7cd98-6c15-4522-b245-fb1eeb3a874b",
   "metadata": {},
   "outputs": [],
   "source": [
    "all_datapoints = get_all_datapoints()"
   ]
  },
  {
   "cell_type": "code",
   "execution_count": 116,
   "id": "a8824c87-d9e2-481c-9e55-4758a46d8ea0",
   "metadata": {},
   "outputs": [
    {
     "name": "stdout",
     "output_type": "stream",
     "text": [
      "Microsoft Corporation\n",
      "Apple Inc.\n"
     ]
    },
    {
     "data": {
      "text/plain": [
       "[[0.14328309647916082, 0.4125673172794164],\n",
       " [0.1297078018535239, 0.39548913504795796],\n",
       " [0.15400998993696371, 0.41489592067289477],\n",
       " [0.12493072632237293, 0.3984810592958293],\n",
       " [0.1330175239073546, 0.3895510096161985],\n",
       " [0.10798712125879005, 0.3987693969822049],\n",
       " [0.1281459021055105, 0.4144697278785409],\n",
       " [0.12152988513137042, 0.40758593270041327],\n",
       " [0.11995467906579026, 0.41509554540110116],\n",
       " [0.15168426471639326, 0.4123640497536076],\n",
       " [0.15699263138295405, 0.4121345389377644],\n",
       " [0.1263540677713092, 0.3861988804299139],\n",
       " [0.12258034850140116, 0.39644902855429137],\n",
       " [0.14467180844011743, 0.41560491734925764],\n",
       " [0.15127367173411685, 0.41984173805867214],\n",
       " [0.13781333880353497, 0.4306603099152114],\n",
       " [0.14497240237823483, 0.40796905436941827],\n",
       " [0.14431212432651294, 0.4018715676809196],\n",
       " [0.15618492682236954, 0.3993667892002496],\n",
       " [0.14975209804815068, 0.40283018151439126],\n",
       " [0.16721219459473635, 0.43307619053318613],\n",
       " [0.18496337217726486, 0.46769073323131016],\n",
       " [0.1827477152477151, 0.45290488260525696],\n",
       " [0.1748610566494436, 0.4663679430247168],\n",
       " [0.16300340752242945, 0.44606674861973694],\n",
       " [0.1426215573907382, 0.48962915461940104],\n",
       " [0.18432924775030038, 0.47168918351104516],\n",
       " [0.1561806033099528, 0.4528944731516587],\n",
       " [0.18098886041711154, 0.46993440706445166],\n",
       " [0.20718371277004352, 0.467568768361933],\n",
       " [0.17905864871201013, 0.46107889154107623],\n",
       " [0.21089941356566194, 0.4826450786770731],\n",
       " [0.20967550171903704, 0.4648336207914037],\n",
       " [0.17711883074690069, 0.47193332405086663],\n",
       " [0.16563525343774457, 0.4712729201074387],\n",
       " [0.16783800525431897, 0.46195773259226586],\n",
       " [0.17252758813861538, 0.43606239564396676]]"
      ]
     },
     "execution_count": 116,
     "metadata": {},
     "output_type": "execute_result"
    }
   ],
   "source": [
    "list(all_datapoints)"
   ]
  },
  {
   "cell_type": "code",
   "execution_count": 112,
   "id": "797a37c1-9c74-494a-a097-da7cd9c2e072",
   "metadata": {},
   "outputs": [],
   "source": [
    "my_array = np.array(list(get_datapoints(company)))\n",
    "x, y = list(zip(*my_array))"
   ]
  },
  {
   "cell_type": "code",
   "execution_count": 113,
   "id": "31896ad7-e5e0-4970-80c1-a840197490d1",
   "metadata": {},
   "outputs": [
    {
     "data": {
      "image/png": "[encoded data removed]",
      "text/plain": [
       "<Figure size 640x480 with 1 Axes>"
      ]
     },
     "metadata": {},
     "output_type": "display_data"
    }
   ],
   "source": [
    "fig, ax = plt.subplots()\n",
    "\n",
    "# Map each onto a scatterplot we'll create with Matplotlib\n",
    "ax.scatter(x=x, y=y)\n",
    "ax.set(title=\"Sentiment of EarningsCall Transcripts\",\n",
    "      xlabel='Polarity', ylabel='Subjectivity')\n",
    "plt.show()"
   ]
  }
 ],
 "metadata": {
  "kernelspec": {
   "display_name": "Python 3 (ipykernel)",
   "language": "python",
   "name": "python3"
  },
  "language_info": {
   "codemirror_mode": {
    "name": "ipython",
    "version": 3
   },
   "file_extension": ".py",
   "mimetype": "text/x-python",
   "name": "python",
   "nbconvert_exporter": "python",
   "pygments_lexer": "ipython3",
   "version": "3.12.3"
  }
 },
 "nbformat": 4,
 "nbformat_minor": 5
}
